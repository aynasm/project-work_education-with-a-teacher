{
 "cells": [
  {
   "cell_type": "markdown",
   "metadata": {
    "toc": true
   },
   "source": [
    "<h1>Содержание<span class=\"tocSkip\"></span></h1>\n",
    "<div class=\"toc\"><ul class=\"toc-item\"><li><span><a href=\"#Подготовка-данных\" data-toc-modified-id=\"Подготовка-данных-1\"><span class=\"toc-item-num\">1&nbsp;&nbsp;</span>Подготовка данных</a></span><ul class=\"toc-item\"><li><span><a href=\"#Вывод.\" data-toc-modified-id=\"Вывод.-1.1\"><span class=\"toc-item-num\">1.1&nbsp;&nbsp;</span>Вывод.</a></span></li></ul></li><li><span><a href=\"#Исследование-задачи\" data-toc-modified-id=\"Исследование-задачи-2\"><span class=\"toc-item-num\">2&nbsp;&nbsp;</span>Исследование задачи</a></span><ul class=\"toc-item\"><li><span><a href=\"#Вывод\" data-toc-modified-id=\"Вывод-2.1\"><span class=\"toc-item-num\">2.1&nbsp;&nbsp;</span>Вывод</a></span></li></ul></li><li><span><a href=\"#Борьба-с-дисбалансом\" data-toc-modified-id=\"Борьба-с-дисбалансом-3\"><span class=\"toc-item-num\">3&nbsp;&nbsp;</span>Борьба с дисбалансом</a></span><ul class=\"toc-item\"><li><span><a href=\"#Вывод\" data-toc-modified-id=\"Вывод-3.1\"><span class=\"toc-item-num\">3.1&nbsp;&nbsp;</span>Вывод</a></span></li></ul></li><li><span><a href=\"#Тестирование-модели\" data-toc-modified-id=\"Тестирование-модели-4\"><span class=\"toc-item-num\">4&nbsp;&nbsp;</span>Тестирование модели</a></span><ul class=\"toc-item\"><li><span><a href=\"#Вывод\" data-toc-modified-id=\"Вывод-4.1\"><span class=\"toc-item-num\">4.1&nbsp;&nbsp;</span>Вывод</a></span></li></ul></li><li><span><a href=\"#Общие-выводы\" data-toc-modified-id=\"Общие-выводы-5\"><span class=\"toc-item-num\">5&nbsp;&nbsp;</span>Общие выводы</a></span></li><li><span><a href=\"#Чек-лист-готовности-проекта\" data-toc-modified-id=\"Чек-лист-готовности-проекта-6\"><span class=\"toc-item-num\">6&nbsp;&nbsp;</span>Чек-лист готовности проекта</a></span></li></ul></div>"
   ]
  },
  {
   "cell_type": "markdown",
   "metadata": {},
   "source": [
    "# Отток клиентов"
   ]
  },
  {
   "cell_type": "markdown",
   "metadata": {},
   "source": [
    "Из «Бета-Банка» стали уходить клиенты. Каждый месяц. Немного, но заметно. Банковские маркетологи посчитали: сохранять текущих клиентов дешевле, чем привлекать новых.\n",
    "\n",
    "Нужно спрогнозировать, уйдёт клиент из банка в ближайшее время или нет. Вам предоставлены исторические данные о поведении клиентов и расторжении договоров с банком. \n",
    "\n",
    "Постройте модель с предельно большим значением *F1*-меры. Чтобы сдать проект успешно, нужно довести метрику до 0.59. Проверьте *F1*-меру на тестовой выборке самостоятельно.\n",
    "\n",
    "Дополнительно измеряйте *AUC-ROC*, сравнивайте её значение с *F1*-мерой.\n",
    "\n",
    "Источник данных: [https://www.kaggle.com/barelydedicated/bank-customer-churn-modeling](https://www.kaggle.com/barelydedicated/bank-customer-churn-modeling)"
   ]
  },
  {
   "cell_type": "markdown",
   "metadata": {},
   "source": [
    "## Подготовка данных"
   ]
  },
  {
   "cell_type": "code",
   "execution_count": 1,
   "metadata": {},
   "outputs": [],
   "source": [
    "import pandas as pd\n",
    "#from fast_ml.model_development import train_valid_test_split\n",
    "from sklearn.model_selection import train_test_split\n",
    "from sklearn.preprocessing import StandardScaler\n",
    "from sklearn.tree import DecisionTreeClassifier\n",
    "from sklearn.ensemble import RandomForestClassifier\n",
    "from sklearn.linear_model import LogisticRegression\n",
    "from sklearn.metrics import f1_score, roc_curve, roc_auc_score, recall_score, precision_score\n",
    "from sklearn.utils import shuffle\n",
    "import matplotlib.pyplot as plt"
   ]
  },
  {
   "cell_type": "code",
   "execution_count": 2,
   "metadata": {},
   "outputs": [],
   "source": [
    "#Считываем данные из csv-файла в датафрейм\n",
    "try:\n",
    "    data = pd.read_csv('/datasets/Churn.csv')\n",
    "except:\n",
    "    data = pd.read_csv('https://code.s3.yandex.net/datasets/Churn.csv')"
   ]
  },
  {
   "cell_type": "code",
   "execution_count": 3,
   "metadata": {},
   "outputs": [
    {
     "name": "stdout",
     "output_type": "stream",
     "text": [
      "------------- Первые 5 строк ------------\n"
     ]
    },
    {
     "data": {
      "text/html": [
       "<div>\n",
       "<style scoped>\n",
       "    .dataframe tbody tr th:only-of-type {\n",
       "        vertical-align: middle;\n",
       "    }\n",
       "\n",
       "    .dataframe tbody tr th {\n",
       "        vertical-align: top;\n",
       "    }\n",
       "\n",
       "    .dataframe thead th {\n",
       "        text-align: right;\n",
       "    }\n",
       "</style>\n",
       "<table border=\"1\" class=\"dataframe\">\n",
       "  <thead>\n",
       "    <tr style=\"text-align: right;\">\n",
       "      <th></th>\n",
       "      <th>RowNumber</th>\n",
       "      <th>CustomerId</th>\n",
       "      <th>Surname</th>\n",
       "      <th>CreditScore</th>\n",
       "      <th>Geography</th>\n",
       "      <th>Gender</th>\n",
       "      <th>Age</th>\n",
       "      <th>Tenure</th>\n",
       "      <th>Balance</th>\n",
       "      <th>NumOfProducts</th>\n",
       "      <th>HasCrCard</th>\n",
       "      <th>IsActiveMember</th>\n",
       "      <th>EstimatedSalary</th>\n",
       "      <th>Exited</th>\n",
       "    </tr>\n",
       "  </thead>\n",
       "  <tbody>\n",
       "    <tr>\n",
       "      <th>0</th>\n",
       "      <td>1</td>\n",
       "      <td>15634602</td>\n",
       "      <td>Hargrave</td>\n",
       "      <td>619</td>\n",
       "      <td>France</td>\n",
       "      <td>Female</td>\n",
       "      <td>42</td>\n",
       "      <td>2.0</td>\n",
       "      <td>0.00</td>\n",
       "      <td>1</td>\n",
       "      <td>1</td>\n",
       "      <td>1</td>\n",
       "      <td>101348.88</td>\n",
       "      <td>1</td>\n",
       "    </tr>\n",
       "    <tr>\n",
       "      <th>1</th>\n",
       "      <td>2</td>\n",
       "      <td>15647311</td>\n",
       "      <td>Hill</td>\n",
       "      <td>608</td>\n",
       "      <td>Spain</td>\n",
       "      <td>Female</td>\n",
       "      <td>41</td>\n",
       "      <td>1.0</td>\n",
       "      <td>83807.86</td>\n",
       "      <td>1</td>\n",
       "      <td>0</td>\n",
       "      <td>1</td>\n",
       "      <td>112542.58</td>\n",
       "      <td>0</td>\n",
       "    </tr>\n",
       "    <tr>\n",
       "      <th>2</th>\n",
       "      <td>3</td>\n",
       "      <td>15619304</td>\n",
       "      <td>Onio</td>\n",
       "      <td>502</td>\n",
       "      <td>France</td>\n",
       "      <td>Female</td>\n",
       "      <td>42</td>\n",
       "      <td>8.0</td>\n",
       "      <td>159660.80</td>\n",
       "      <td>3</td>\n",
       "      <td>1</td>\n",
       "      <td>0</td>\n",
       "      <td>113931.57</td>\n",
       "      <td>1</td>\n",
       "    </tr>\n",
       "    <tr>\n",
       "      <th>3</th>\n",
       "      <td>4</td>\n",
       "      <td>15701354</td>\n",
       "      <td>Boni</td>\n",
       "      <td>699</td>\n",
       "      <td>France</td>\n",
       "      <td>Female</td>\n",
       "      <td>39</td>\n",
       "      <td>1.0</td>\n",
       "      <td>0.00</td>\n",
       "      <td>2</td>\n",
       "      <td>0</td>\n",
       "      <td>0</td>\n",
       "      <td>93826.63</td>\n",
       "      <td>0</td>\n",
       "    </tr>\n",
       "    <tr>\n",
       "      <th>4</th>\n",
       "      <td>5</td>\n",
       "      <td>15737888</td>\n",
       "      <td>Mitchell</td>\n",
       "      <td>850</td>\n",
       "      <td>Spain</td>\n",
       "      <td>Female</td>\n",
       "      <td>43</td>\n",
       "      <td>2.0</td>\n",
       "      <td>125510.82</td>\n",
       "      <td>1</td>\n",
       "      <td>1</td>\n",
       "      <td>1</td>\n",
       "      <td>79084.10</td>\n",
       "      <td>0</td>\n",
       "    </tr>\n",
       "  </tbody>\n",
       "</table>\n",
       "</div>"
      ],
      "text/plain": [
       "   RowNumber  CustomerId   Surname  CreditScore Geography  Gender  Age  \\\n",
       "0          1    15634602  Hargrave          619    France  Female   42   \n",
       "1          2    15647311      Hill          608     Spain  Female   41   \n",
       "2          3    15619304      Onio          502    France  Female   42   \n",
       "3          4    15701354      Boni          699    France  Female   39   \n",
       "4          5    15737888  Mitchell          850     Spain  Female   43   \n",
       "\n",
       "   Tenure    Balance  NumOfProducts  HasCrCard  IsActiveMember  \\\n",
       "0     2.0       0.00              1          1               1   \n",
       "1     1.0   83807.86              1          0               1   \n",
       "2     8.0  159660.80              3          1               0   \n",
       "3     1.0       0.00              2          0               0   \n",
       "4     2.0  125510.82              1          1               1   \n",
       "\n",
       "   EstimatedSalary  Exited  \n",
       "0        101348.88       1  \n",
       "1        112542.58       0  \n",
       "2        113931.57       1  \n",
       "3         93826.63       0  \n",
       "4         79084.10       0  "
      ]
     },
     "metadata": {},
     "output_type": "display_data"
    },
    {
     "name": "stdout",
     "output_type": "stream",
     "text": [
      "\n",
      "\n",
      "------------- Типы данных ------------\n",
      "<class 'pandas.core.frame.DataFrame'>\n",
      "RangeIndex: 10000 entries, 0 to 9999\n",
      "Data columns (total 14 columns):\n",
      " #   Column           Non-Null Count  Dtype  \n",
      "---  ------           --------------  -----  \n",
      " 0   RowNumber        10000 non-null  int64  \n",
      " 1   CustomerId       10000 non-null  int64  \n",
      " 2   Surname          10000 non-null  object \n",
      " 3   CreditScore      10000 non-null  int64  \n",
      " 4   Geography        10000 non-null  object \n",
      " 5   Gender           10000 non-null  object \n",
      " 6   Age              10000 non-null  int64  \n",
      " 7   Tenure           9091 non-null   float64\n",
      " 8   Balance          10000 non-null  float64\n",
      " 9   NumOfProducts    10000 non-null  int64  \n",
      " 10  HasCrCard        10000 non-null  int64  \n",
      " 11  IsActiveMember   10000 non-null  int64  \n",
      " 12  EstimatedSalary  10000 non-null  float64\n",
      " 13  Exited           10000 non-null  int64  \n",
      "dtypes: float64(3), int64(8), object(3)\n",
      "memory usage: 1.1+ MB\n",
      "None\n",
      "\n",
      "\n",
      "------------- Пропуски ------------\n",
      "RowNumber Пропусков НЕТ\n",
      "CustomerId Пропусков НЕТ\n",
      "Surname Пропусков НЕТ\n",
      "CreditScore Пропусков НЕТ\n",
      "Geography Пропусков НЕТ\n",
      "Gender Пропусков НЕТ\n",
      "Age Пропусков НЕТ\n",
      "Tenure  -  909 пропусков\n",
      "\n",
      "\n",
      "------------- Дубликаты ------------\n",
      "Дубликатов НЕТ\n"
     ]
    }
   ],
   "source": [
    "#Функция получения первичной информации о датафрейме\n",
    "def studying_the_data (data):\n",
    "    print ('------------- Первые 5 строк ------------')\n",
    "    display(data.head())\n",
    "    print('')\n",
    "    print('')\n",
    "    print ('------------- Типы данных ------------')\n",
    "    print (data.info())\n",
    "    print('')\n",
    "    print('')\n",
    "    print ('------------- Пропуски ------------')\n",
    "    count = 0\n",
    "    for element in data.columns:\n",
    "        if data[element].isna().sum() > 0: \n",
    "            print(element, ' - ', data[element].isna().sum(), 'пропусков')\n",
    "            count = +1\n",
    "        if count == 0:\n",
    "            print(element, 'Пропусков НЕТ')\n",
    "    print('')\n",
    "    print('')\n",
    "    print ('------------- Дубликаты ------------')\n",
    "    if data.duplicated().sum() > 0:\n",
    "        print('Дубликатов: ', data.duplicated().sum())\n",
    "    else:\n",
    "        print('Дубликатов НЕТ')\n",
    "\n",
    "studying_the_data (data)"
   ]
  },
  {
   "cell_type": "code",
   "execution_count": 4,
   "metadata": {
    "scrolled": true
   },
   "outputs": [
    {
     "data": {
      "text/plain": [
       "RowNumber          0\n",
       "CustomerId         0\n",
       "Surname            0\n",
       "CreditScore        0\n",
       "Geography          0\n",
       "Gender             0\n",
       "Age                0\n",
       "Tenure             0\n",
       "Balance            0\n",
       "NumOfProducts      0\n",
       "HasCrCard          0\n",
       "IsActiveMember     0\n",
       "EstimatedSalary    0\n",
       "Exited             0\n",
       "dtype: int64"
      ]
     },
     "execution_count": 4,
     "metadata": {},
     "output_type": "execute_result"
    }
   ],
   "source": [
    "#Заменим пропуски в Tenure медианным значением\n",
    "data['Tenure'] = data['Tenure'].fillna(data['Tenure'].median())\n",
    "data.isna().sum()"
   ]
  },
  {
   "cell_type": "code",
   "execution_count": 5,
   "metadata": {},
   "outputs": [],
   "source": [
    "#Удалим столбецы Surname, RowNumber, CustomerId\n",
    "data = data.drop(['Surname', 'RowNumber', 'CustomerId'], axis=1)"
   ]
  },
  {
   "cell_type": "code",
   "execution_count": 6,
   "metadata": {},
   "outputs": [
    {
     "name": "stdout",
     "output_type": "stream",
     "text": [
      "   CreditScore Geography  Gender  Age  Tenure    Balance  NumOfProducts  \\\n",
      "0          619    France  Female   42     2.0       0.00              1   \n",
      "1          608     Spain  Female   41     1.0   83807.86              1   \n",
      "2          502    France  Female   42     8.0  159660.80              3   \n",
      "3          699    France  Female   39     1.0       0.00              2   \n",
      "4          850     Spain  Female   43     2.0  125510.82              1   \n",
      "\n",
      "   HasCrCard  IsActiveMember  EstimatedSalary  Exited  \n",
      "0          1               1        101348.88       1  \n",
      "1          0               1        112542.58       0  \n",
      "2          1               0        113931.57       1  \n",
      "3          0               0         93826.63       0  \n",
      "4          1               1         79084.10       0  \n"
     ]
    }
   ],
   "source": [
    "print(data.head())"
   ]
  },
  {
   "cell_type": "code",
   "execution_count": 7,
   "metadata": {
    "scrolled": true
   },
   "outputs": [
    {
     "name": "stdout",
     "output_type": "stream",
     "text": [
      "   CreditScore  Age  Tenure    Balance  NumOfProducts  HasCrCard  \\\n",
      "0          619   42     2.0       0.00              1          1   \n",
      "1          608   41     1.0   83807.86              1          0   \n",
      "2          502   42     8.0  159660.80              3          1   \n",
      "3          699   39     1.0       0.00              2          0   \n",
      "4          850   43     2.0  125510.82              1          1   \n",
      "\n",
      "   IsActiveMember  EstimatedSalary  Exited  Geography_Germany  \\\n",
      "0               1        101348.88       1                  0   \n",
      "1               1        112542.58       0                  0   \n",
      "2               0        113931.57       1                  0   \n",
      "3               0         93826.63       0                  0   \n",
      "4               1         79084.10       0                  0   \n",
      "\n",
      "   Geography_Spain  Gender_Male  \n",
      "0                0            0  \n",
      "1                1            0  \n",
      "2                0            0  \n",
      "3                0            0  \n",
      "4                1            0  \n"
     ]
    }
   ],
   "source": [
    "#Преобразуем колонки Geography и Gender техникой OHE. Чтобы не попасть в дамми-ловушку, применим аргумент drop_first \n",
    "#функции pd.get_dummies() и выведем обновленную таблицу\n",
    "data = pd.get_dummies(data, columns=['Geography', 'Gender'], drop_first= True)\n",
    "print(data.head())"
   ]
  },
  {
   "cell_type": "markdown",
   "metadata": {},
   "source": [
    "<div style=\"background: #B0E0E6; padding: 5px; border: 1px solid SteelBlue; border-radius: 5px;\">\n",
    "    <font color='4682B4'><u><b>КОММЕНТАРИЙ СТУДЕНТА</b></u></font>\n",
    "    <br />\n",
    "    <font color='4682B4'>Изучу, спасибо</font>\n",
    "</div>"
   ]
  },
  {
   "cell_type": "code",
   "execution_count": 8,
   "metadata": {
    "scrolled": true
   },
   "outputs": [
    {
     "name": "stdout",
     "output_type": "stream",
     "text": [
      "(6000, 11)\n",
      "6000\n",
      "(2000, 11)\n",
      "2000\n",
      "(2000, 11)\n",
      "2000\n"
     ]
    }
   ],
   "source": [
    "#Стандартизируем признаки, применим масштабирование\n",
    "#Для этого сначала выделим целевой признак и оставшиеся признаки и сохраним их в переменные\n",
    "target = data['Exited']\n",
    "features = data.drop('Exited', axis=1)\n",
    "\n",
    "#Разделим исходные данные на обучающую, валидную и тестовую выборки в соотношении 3:1:1\n",
    "features_train, features_test, target_train, target_test = train_test_split(features, target, \n",
    "                                                                            test_size=0.40, random_state=12345) \n",
    "\n",
    "features_valid, features_test, target_valid, target_test = train_test_split(features_test, target_test, \n",
    "                                                                            test_size=0.50, random_state=12345) \n",
    "\n",
    "print(features_train.shape)\n",
    "print(target_train.shape[0])\n",
    "print(features_valid.shape)\n",
    "print(target_valid.shape[0])\n",
    "print(features_test.shape)\n",
    "print(target_test.shape[0])"
   ]
  },
  {
   "cell_type": "code",
   "execution_count": 9,
   "metadata": {},
   "outputs": [
    {
     "name": "stdout",
     "output_type": "stream",
     "text": [
      "      CreditScore       Age    Tenure   Balance  NumOfProducts  HasCrCard  \\\n",
      "7479    -0.886751 -0.373192  1.082277  1.232271              1          1   \n",
      "3411     0.608663 -0.183385  1.082277  0.600563              1          0   \n",
      "6027     2.052152  0.480939 -0.737696  1.027098              2          0   \n",
      "1247    -1.457915 -1.417129  0.354288 -1.233163              2          1   \n",
      "3716     0.130961 -1.132419 -1.101690  1.140475              1          0   \n",
      "\n",
      "      IsActiveMember  EstimatedSalary  Geography_Germany  Geography_Spain  \\\n",
      "7479               0        -0.187705                  0                1   \n",
      "3411               0        -0.333945                  0                0   \n",
      "6027               1         1.503095                  1                0   \n",
      "1247               0        -1.071061                  0                0   \n",
      "3716               0         1.524268                  1                0   \n",
      "\n",
      "      Gender_Male  \n",
      "7479            1  \n",
      "3411            0  \n",
      "6027            1  \n",
      "1247            1  \n",
      "3716            0  \n"
     ]
    }
   ],
   "source": [
    "import warnings\n",
    "warnings.filterwarnings('ignore')\n",
    "\n",
    "#Стандартизируем признаки, применим масштабирование\n",
    "numeric = ['CreditScore', 'Age', 'Tenure', 'Balance', 'EstimatedSalary']\n",
    "\n",
    "#Создадим объект структуры StandardScaler и настроим его на обучающих данных. \n",
    "#Настройка — это вычисление среднего и дисперсии\n",
    "scaler = StandardScaler()\n",
    "scaler.fit(features_train[numeric]) \n",
    "\n",
    "#Преобразуем обучающую, валидационную и тестовую выборки функцией transform(). \n",
    "features_train[numeric] = scaler.transform(features_train[numeric])\n",
    "features_valid[numeric] = scaler.transform(features_valid[numeric]) \n",
    "features_test[numeric] = scaler.transform(features_test[numeric])\n",
    "\n",
    "#Чтобы предупреждение не появлялось\n",
    "pd.options.mode.chained_assignment = None\n",
    "\n",
    "print(features_train.head())"
   ]
  },
  {
   "cell_type": "markdown",
   "metadata": {},
   "source": [
    "### Вывод. \n",
    "Данные подготовили, переходим к исследованиям"
   ]
  },
  {
   "cell_type": "markdown",
   "metadata": {},
   "source": [
    "## Исследование задачи"
   ]
  },
  {
   "cell_type": "code",
   "execution_count": 10,
   "metadata": {},
   "outputs": [
    {
     "name": "stdout",
     "output_type": "stream",
     "text": [
      "0    7963\n",
      "1    2037\n",
      "Name: Exited, dtype: int64\n"
     ]
    },
    {
     "data": {
      "text/plain": [
       "<AxesSubplot:title={'center':'Баланс классов'}>"
      ]
     },
     "execution_count": 10,
     "metadata": {},
     "output_type": "execute_result"
    },
    {
     "data": {
      "image/png": "[encoded data removed]",
      "text/plain": [
       "<Figure size 432x288 with 1 Axes>"
      ]
     },
     "metadata": {
      "needs_background": "light"
     },
     "output_type": "display_data"
    }
   ],
   "source": [
    "#Посмотрим на баланс классов\n",
    "class_frequency = target.value_counts()\n",
    "print(class_frequency)\n",
    "\n",
    "plt.figure();\n",
    "class_frequency.plot(kind='bar', title='Баланс классов')"
   ]
  },
  {
   "cell_type": "markdown",
   "metadata": {},
   "source": [
    "Классы несбалансированны, так как их соотношение далеко от 1:1"
   ]
  },
  {
   "cell_type": "code",
   "execution_count": 11,
   "metadata": {
    "scrolled": true
   },
   "outputs": [
    {
     "name": "stdout",
     "output_type": "stream",
     "text": [
      "depth 1 f1 0.0\n",
      "depth 2 f1 0.5217391304347825\n",
      "depth 3 f1 0.4234875444839857\n",
      "depth 4 f1 0.5528700906344411\n",
      "depth 5 f1 0.5406249999999999\n",
      "depth 6 f1 0.5696969696969697\n",
      "depth 7 f1 0.5320813771517998\n",
      "depth 8 f1 0.5454545454545454\n",
      "depth 9 f1 0.5633802816901409\n",
      "depth 10 f1 0.5385694249649369\n",
      "depth 11 f1 0.5059920106524634\n",
      "depth 12 f1 0.521072796934866\n",
      "depth 13 f1 0.5038961038961038\n",
      "depth 14 f1 0.48675914249684743\n",
      "depth 15 f1 0.4975124378109453\n"
     ]
    }
   ],
   "source": [
    "#Построим модель решающего дерева\n",
    "for depth in range(1, 16, 1):\n",
    "    model = DecisionTreeClassifier(random_state=12345, max_depth=depth) # обучим модель с заданной глубиной дерева\n",
    "    model.fit(features_train, target_train) # обучим модель вызовом метода fit()\n",
    "    predicted_valid = model.predict(features_valid) # получим предсказания модели\n",
    "    print('depth', depth, 'f1', f1_score(target_valid, predicted_valid))  "
   ]
  },
  {
   "cell_type": "markdown",
   "metadata": {},
   "source": [
    "Наилучший показатель f1 = 0,57 при depth 9"
   ]
  },
  {
   "cell_type": "code",
   "execution_count": 12,
   "metadata": {},
   "outputs": [
    {
     "name": "stdout",
     "output_type": "stream",
     "text": [
      "Площадь ROC-кривой: 0.44559820145097934\n"
     ]
    }
   ],
   "source": [
    "model = DecisionTreeClassifier(random_state=12345, max_depth=9) # обучим модель с заданной глубиной дерева\n",
    "model.fit(features_train, target_train) # обучим модель вызовом метода fit()\n",
    "probabilities = model.predict_proba(features)\n",
    "probabilities_one = probabilities[:, 1]\n",
    "print('Площадь ROC-кривой:', roc_auc_score(target, probabilities_one))  "
   ]
  },
  {
   "cell_type": "code",
   "execution_count": 13,
   "metadata": {
    "scrolled": true
   },
   "outputs": [
    {
     "name": "stdout",
     "output_type": "stream",
     "text": [
      "depth 1 f1 0.0\n",
      "depth 2 f1 0.15789473684210525\n",
      "depth 3 f1 0.23284823284823286\n",
      "depth 4 f1 0.42369838420107714\n",
      "depth 5 f1 0.5188834154351396\n",
      "depth 6 f1 0.5333333333333333\n",
      "depth 7 f1 0.5625000000000001\n",
      "depth 8 f1 0.5641838351822503\n",
      "depth 9 f1 0.5763239875389408\n",
      "depth 10 f1 0.581039755351682\n",
      "depth 11 f1 0.578386605783866\n",
      "depth 12 f1 0.5701357466063349\n",
      "depth 13 f1 0.562406015037594\n",
      "depth 14 f1 0.5727136431784108\n",
      "depth 15 f1 0.5752608047690015\n",
      "CPU times: user 1.44 s, sys: 3.64 ms, total: 1.44 s\n",
      "Wall time: 1.46 s\n"
     ]
    }
   ],
   "source": [
    "%%time\n",
    "\n",
    "#Построим модель случайного леса\n",
    "for depth in range(1,16,1):\n",
    "    model = RandomForestClassifier(random_state=12345, max_depth=depth, n_estimators=20) # обучим модель с заданной глубиной дерева\n",
    "    model.fit(features_train, target_train) # обучим модель вызовом метода fit()\n",
    "    predicted_valid = model.predict(features_valid) # получим предсказания модели\n",
    "    print('depth', depth, 'f1', f1_score(target_valid, predicted_valid)) # напечатаем f1"
   ]
  },
  {
   "cell_type": "markdown",
   "metadata": {},
   "source": [
    "Наилучший показатель f1 = 0,58 при depth 11"
   ]
  },
  {
   "cell_type": "code",
   "execution_count": 14,
   "metadata": {},
   "outputs": [
    {
     "name": "stdout",
     "output_type": "stream",
     "text": [
      "est 20 f1 0.578386605783866\n",
      "est 25 f1 0.5709923664122137\n",
      "est 30 f1 0.5731895223420647\n",
      "est 35 f1 0.5745007680491552\n",
      "est 40 f1 0.5793528505392913\n",
      "est 45 f1 0.5705426356589147\n",
      "est 50 f1 0.5696594427244582\n",
      "est 55 f1 0.5674418604651162\n",
      "est 60 f1 0.5648148148148148\n",
      "est 65 f1 0.5569230769230769\n",
      "est 70 f1 0.5599999999999999\n",
      "est 75 f1 0.5625965996908809\n",
      "est 80 f1 0.5656877897990726\n",
      "est 85 f1 0.5718701700154559\n",
      "est 90 f1 0.56656346749226\n",
      "est 95 f1 0.5718701700154559\n",
      "est 100 f1 0.5701078582434514\n",
      "est 105 f1 0.5709876543209876\n",
      "est 110 f1 0.5696594427244582\n",
      "est 115 f1 0.5718701700154559\n",
      "est 120 f1 0.5731895223420647\n",
      "est 125 f1 0.5753846153846154\n",
      "est 130 f1 0.5745007680491552\n",
      "est 135 f1 0.5745007680491552\n",
      "est 140 f1 0.5749613601236476\n",
      "est 145 f1 0.5723076923076923\n",
      "CPU times: user 11.9 s, sys: 52.9 ms, total: 11.9 s\n",
      "Wall time: 12 s\n"
     ]
    }
   ],
   "source": [
    "%%time\n",
    "\n",
    "#Увеличиваем количество деревьев\n",
    "for est in range(20,150,5):\n",
    "    model = RandomForestClassifier(random_state=12345, max_depth=11, n_estimators=est) # обучим модель с заданной глубиной дерева\n",
    "    model.fit(features_train, target_train) # обучим модель вызовом метода fit()\n",
    "    predicted_valid = model.predict(features_valid) # получим предсказания модели\n",
    "    print('est', est, 'f1', f1_score(target_valid, predicted_valid)) # напечатаем f1"
   ]
  },
  {
   "cell_type": "markdown",
   "metadata": {},
   "source": [
    "Наилучший показатель f1 = 0,58 при depth 9 и est 20"
   ]
  },
  {
   "cell_type": "code",
   "execution_count": 15,
   "metadata": {},
   "outputs": [
    {
     "name": "stdout",
     "output_type": "stream",
     "text": [
      "Площадь ROC-кривой: 0.7276738186079197\n"
     ]
    }
   ],
   "source": [
    "model = RandomForestClassifier(random_state=12345, max_depth=9, n_estimators=20) # обучим модель с заданной глубиной дерева\n",
    "model.fit(features_train, target_train) # обучим модель вызовом метода fit()\n",
    "probabilities = model.predict_proba(features)\n",
    "probabilities_one = probabilities[:, 1]\n",
    "print('Площадь ROC-кривой:', roc_auc_score(target, probabilities_one))  "
   ]
  },
  {
   "cell_type": "code",
   "execution_count": 16,
   "metadata": {},
   "outputs": [
    {
     "name": "stdout",
     "output_type": "stream",
     "text": [
      "f1 0.33108108108108103\n",
      "CPU times: user 28.3 ms, sys: 7.48 ms, total: 35.8 ms\n",
      "Wall time: 21.7 ms\n"
     ]
    }
   ],
   "source": [
    "%%time\n",
    "\n",
    "#Построим модель логистической регрессии\n",
    "model = LogisticRegression(solver='liblinear', random_state=12345)\n",
    "model.fit(features_train, target_train) # обучим модель вызовом метода fit()\n",
    "predicted_valid = model.predict(features_valid) # получим предсказания модели\n",
    "print('f1', f1_score(target_valid, predicted_valid)) # напечатаем f1"
   ]
  },
  {
   "cell_type": "markdown",
   "metadata": {},
   "source": [
    "f1 равно 0"
   ]
  },
  {
   "cell_type": "markdown",
   "metadata": {},
   "source": [
    "### Вывод\n",
    "1. Выявили дисбаланс классов 1:4\n",
    "2. Нашли лучшую модель - \"Случайный лес\", площадь ROC-кривой 0,72"
   ]
  },
  {
   "cell_type": "markdown",
   "metadata": {},
   "source": [
    "## Борьба с дисбалансом"
   ]
  },
  {
   "cell_type": "code",
   "execution_count": 17,
   "metadata": {
    "scrolled": true
   },
   "outputs": [
    {
     "name": "stdout",
     "output_type": "stream",
     "text": [
      "depth 1 f1 0.4994903160040775\n",
      "depth 2 f1 0.541015625\n",
      "depth 3 f1 0.541015625\n",
      "depth 4 f1 0.5277777777777778\n",
      "depth 5 f1 0.5963791267305644\n",
      "depth 6 f1 0.5581835383159887\n",
      "depth 7 f1 0.5508390918065154\n",
      "depth 8 f1 0.5398058252427185\n",
      "depth 9 f1 0.5386138613861386\n",
      "depth 10 f1 0.5115830115830117\n",
      "depth 11 f1 0.5270833333333332\n",
      "depth 12 f1 0.5167853509664293\n",
      "depth 13 f1 0.5134843581445523\n",
      "depth 14 f1 0.49887640449438203\n",
      "depth 15 f1 0.4902186421173763\n"
     ]
    }
   ],
   "source": [
    "#Применим взвешивание классов\n",
    "#Построим модель решающего дерева\n",
    "for depth in range(1, 16, 1):\n",
    "    model = DecisionTreeClassifier(random_state=12345, max_depth=depth, class_weight='balanced') # обучим модель с заданной глубиной дерева\n",
    "    model.fit(features_train, target_train) # обучим модель вызовом метода fit()\n",
    "    predicted_valid = model.predict(features_valid) # получим предсказания модели\n",
    "    print('depth', depth, 'f1', f1_score(target_valid, predicted_valid))  "
   ]
  },
  {
   "cell_type": "code",
   "execution_count": 18,
   "metadata": {},
   "outputs": [
    {
     "name": "stdout",
     "output_type": "stream",
     "text": [
      "Площадь ROC-кривой: 0.5561630740505717\n"
     ]
    }
   ],
   "source": [
    "model = DecisionTreeClassifier(random_state=12345, max_depth=5, class_weight='balanced') # обучим модель с заданной глубиной дерева\n",
    "model.fit(features_train, target_train) # обучим модель вызовом метода fit()\n",
    "probabilities = model.predict_proba(features)\n",
    "probabilities_one = probabilities[:, 1]\n",
    "print('Площадь ROC-кривой:', roc_auc_score(target, probabilities_one))  "
   ]
  },
  {
   "cell_type": "code",
   "execution_count": 19,
   "metadata": {
    "scrolled": true
   },
   "outputs": [
    {
     "name": "stdout",
     "output_type": "stream",
     "text": [
      "depth 1 f1 0.5280898876404494\n",
      "depth 2 f1 0.5714285714285714\n",
      "depth 3 f1 0.5727525486561632\n",
      "depth 4 f1 0.5991902834008097\n",
      "depth 5 f1 0.6054490413723512\n",
      "depth 6 f1 0.6076458752515091\n",
      "depth 7 f1 0.6051502145922747\n",
      "depth 8 f1 0.6158868335146899\n",
      "depth 9 f1 0.6101694915254238\n",
      "depth 10 f1 0.598014888337469\n",
      "depth 11 f1 0.605296343001261\n",
      "depth 12 f1 0.5976408912188729\n",
      "depth 13 f1 0.5825242718446602\n",
      "depth 14 f1 0.5834502103786816\n",
      "depth 15 f1 0.58\n"
     ]
    }
   ],
   "source": [
    "#Построим модель случайного леса\n",
    "for depth in range(1,16,1):\n",
    "    model = RandomForestClassifier(random_state=12345, max_depth=depth, n_estimators=20, class_weight='balanced') # обучим модель с заданной глубиной дерева\n",
    "    model.fit(features_train, target_train) # обучим модель вызовом метода fit()\n",
    "    predicted_valid = model.predict(features_valid) # получим предсказания модели\n",
    "    print('depth', depth, 'f1', f1_score(target_valid, predicted_valid)) # напечатаем f1"
   ]
  },
  {
   "cell_type": "code",
   "execution_count": 20,
   "metadata": {},
   "outputs": [
    {
     "name": "stdout",
     "output_type": "stream",
     "text": [
      "est 20 f1 0.6158868335146899\n",
      "est 25 f1 0.6115342763873777\n",
      "est 30 f1 0.6115342763873777\n",
      "est 35 f1 0.6125541125541126\n",
      "est 40 f1 0.6236559139784946\n",
      "est 45 f1 0.623773173391494\n",
      "est 50 f1 0.6221248630887185\n",
      "est 55 f1 0.6247240618101546\n",
      "est 60 f1 0.6181015452538632\n",
      "est 65 f1 0.6138613861386139\n",
      "est 70 f1 0.6181015452538632\n",
      "est 75 f1 0.6131868131868131\n",
      "est 80 f1 0.6193118756936736\n",
      "est 85 f1 0.6225165562913907\n",
      "est 90 f1 0.621978021978022\n",
      "est 95 f1 0.6254143646408841\n",
      "est 100 f1 0.6225165562913907\n",
      "est 105 f1 0.6247240618101546\n",
      "est 110 f1 0.627062706270627\n",
      "est 115 f1 0.6284454244762954\n",
      "est 120 f1 0.6284454244762954\n",
      "est 125 f1 0.6284454244762954\n",
      "est 130 f1 0.6262403528114664\n",
      "est 135 f1 0.6247240618101546\n",
      "est 140 f1 0.6269315673289182\n",
      "est 145 f1 0.6295884315906563\n"
     ]
    }
   ],
   "source": [
    "#Увеличиваем количество деревьев\n",
    "for est in range(20,150,5):\n",
    "    model = RandomForestClassifier(random_state=12345, max_depth=8, n_estimators=est, class_weight='balanced') # обучим модель с заданной глубиной дерева\n",
    "    model.fit(features_train, target_train) # обучим модель вызовом метода fit()\n",
    "    predicted_valid = model.predict(features_valid) # получим предсказания модели\n",
    "    print('est', est, 'f1', f1_score(target_valid, predicted_valid)) # напечатаем f1"
   ]
  },
  {
   "cell_type": "code",
   "execution_count": 21,
   "metadata": {},
   "outputs": [
    {
     "name": "stdout",
     "output_type": "stream",
     "text": [
      "Площадь ROC-кривой: 0.6746839564995961\n"
     ]
    }
   ],
   "source": [
    "model = RandomForestClassifier(random_state=12345, max_depth=9, n_estimators=145, class_weight='balanced') # обучим модель с заданной глубиной дерева\n",
    "model.fit(features_train, target_train) # обучим модель вызовом метода fit()\n",
    "probabilities = model.predict_proba(features)\n",
    "probabilities_one = probabilities[:, 1]\n",
    "print('Площадь ROC-кривой:', roc_auc_score(target, probabilities_one))  "
   ]
  },
  {
   "cell_type": "code",
   "execution_count": 22,
   "metadata": {},
   "outputs": [
    {
     "name": "stdout",
     "output_type": "stream",
     "text": [
      "f1 0.4888507718696398\n"
     ]
    }
   ],
   "source": [
    "#Построим модель логистической регрессии\n",
    "model = LogisticRegression(solver='liblinear', random_state=12345, class_weight='balanced')\n",
    "model.fit(features_train, target_train) # обучим модель вызовом метода fit()\n",
    "predicted_valid = model.predict(features_valid) # получим предсказания модели\n",
    "print('f1', f1_score(target_valid, predicted_valid)) # напечатаем f1"
   ]
  },
  {
   "cell_type": "code",
   "execution_count": 23,
   "metadata": {
    "scrolled": true
   },
   "outputs": [
    {
     "name": "stdout",
     "output_type": "stream",
     "text": [
      "(9588, 11)\n",
      "(9588,)\n"
     ]
    }
   ],
   "source": [
    "#Применим увеличение выборки upsampling\n",
    "\n",
    "#Напишем функцию\n",
    "def upsample(features, target, repeat): \n",
    "    #Разделим обучающую выборку на отрицательные и положительные объекты\n",
    "    features_zeros = features[target == 0]\n",
    "    features_ones = features[target == 1]\n",
    "    target_zeros = target[target == 0]\n",
    "    target_ones = target[target == 1]\n",
    "    \n",
    "    #Продублируем объекты положительного класса и объединим их с объектами отрицательного класса\n",
    "    features_upsampled = pd.concat([features_zeros] + [features_ones] * repeat)\n",
    "    target_upsampled = pd.concat([target_zeros] + [target_ones] * repeat)\n",
    "    \n",
    "    #Перемешаем данные: идущие друг за другом одинаковые вопросы не помогут обучению\n",
    "    features_upsampled, target_upsampled = shuffle(features_upsampled, target_upsampled, random_state=12345)\n",
    "    \n",
    "    return features_upsampled, target_upsampled \n",
    "\n",
    "features_upsampled, target_upsampled = upsample(features_train, target_train, 4)\n",
    "\n",
    "print(features_upsampled.shape)\n",
    "print(target_upsampled.shape)"
   ]
  },
  {
   "cell_type": "markdown",
   "metadata": {},
   "source": [
    "Объекты для положительного и отрицательного класса сравнялись"
   ]
  },
  {
   "cell_type": "code",
   "execution_count": 24,
   "metadata": {},
   "outputs": [
    {
     "name": "stdout",
     "output_type": "stream",
     "text": [
      "(2397, 11)\n",
      "(2397,)\n"
     ]
    }
   ],
   "source": [
    "#Применим уменьшение выборки downsampling\n",
    "\n",
    "#Напишем функцию\n",
    "def downsample(features, target, fraction):\n",
    "    #Разделим обучающую выборку на отрицательные и положительные объекты\n",
    "    features_zeros = features[target == 0]\n",
    "    features_ones = features[target == 1]\n",
    "    target_zeros = target[target == 0]\n",
    "    target_ones = target[target == 1]\n",
    "    \n",
    "    features_downsampled = pd.concat([features_zeros.sample(frac=fraction, random_state=12345)] + [features_ones])\n",
    "    target_downsampled = pd.concat([target_zeros.sample(frac=fraction, random_state=12345)] + [target_ones])\n",
    "    \n",
    "    #Перемешаем данные: идущие друг за другом одинаковые вопросы не помогут обучению\n",
    "    features_downsampled, target_downsampled = shuffle(features_downsampled, target_downsampled, random_state=12345)\n",
    "    \n",
    "    return features_downsampled, target_downsampled\n",
    "\n",
    "features_downsampled, target_downsampled = downsample(features_train, target_train, 0.25)\n",
    "\n",
    "print(features_downsampled.shape)\n",
    "print(target_downsampled.shape)"
   ]
  },
  {
   "cell_type": "markdown",
   "metadata": {},
   "source": [
    "Объекты для положительного и отрицательного класса сравнялись"
   ]
  },
  {
   "cell_type": "code",
   "execution_count": 25,
   "metadata": {},
   "outputs": [
    {
     "name": "stdout",
     "output_type": "stream",
     "text": [
      "depth 1 f1 0.4994903160040775\n",
      "depth 2 f1 0.541015625\n",
      "depth 3 f1 0.541015625\n",
      "depth 4 f1 0.5277777777777778\n",
      "depth 5 f1 0.5963791267305644\n",
      "depth 6 f1 0.5581835383159887\n",
      "depth 7 f1 0.5524752475247525\n",
      "depth 8 f1 0.5408560311284047\n",
      "depth 9 f1 0.5405940594059405\n",
      "depth 10 f1 0.5159420289855072\n",
      "depth 11 f1 0.5351521511017839\n",
      "depth 12 f1 0.5117227319062181\n",
      "depth 13 f1 0.5119825708061002\n",
      "depth 14 f1 0.4994375703037121\n",
      "depth 15 f1 0.486796785304248\n"
     ]
    }
   ],
   "source": [
    "#Проведем тестирование после балансировки\n",
    "#Построим модель решающего дерева\n",
    "for depth in range(1, 16, 1):\n",
    "    model = DecisionTreeClassifier(random_state=12345, max_depth=depth) # обучим модель с заданной глубиной дерева\n",
    "    model.fit(features_upsampled, target_upsampled) # обучим модель вызовом метода fit()\n",
    "    predicted_valid = model.predict(features_valid) # получим предсказания модели\n",
    "    print('depth', depth, 'f1', f1_score(target_valid, predicted_valid))"
   ]
  },
  {
   "cell_type": "markdown",
   "metadata": {},
   "source": [
    "Наилучший показатель f1 = 0,59 при depth 5"
   ]
  },
  {
   "cell_type": "code",
   "execution_count": 26,
   "metadata": {},
   "outputs": [
    {
     "name": "stdout",
     "output_type": "stream",
     "text": [
      "depth 1 f1 0.5336048879837066\n",
      "depth 2 f1 0.551094890510949\n",
      "depth 3 f1 0.5730337078651686\n",
      "depth 4 f1 0.600995024875622\n",
      "depth 5 f1 0.6124497991967872\n",
      "depth 6 f1 0.6080808080808081\n",
      "depth 7 f1 0.6092184368737475\n",
      "depth 8 f1 0.62217659137577\n",
      "depth 9 f1 0.6099893730074388\n",
      "depth 10 f1 0.6172043010752688\n",
      "depth 11 f1 0.6105499438832771\n",
      "depth 12 f1 0.6039488966318235\n",
      "depth 13 f1 0.6153846153846154\n",
      "depth 14 f1 0.6274509803921569\n",
      "depth 15 f1 0.6044226044226044\n",
      "CPU times: user 2.04 s, sys: 7.98 ms, total: 2.05 s\n",
      "Wall time: 2.08 s\n"
     ]
    }
   ],
   "source": [
    "%%time\n",
    "\n",
    "#Построим модель случайного леса\n",
    "for depth in range(1,16,1):\n",
    "    model = RandomForestClassifier(random_state=12345, max_depth=depth, n_estimators=20) # обучим модель с заданной глубиной дерева\n",
    "    model.fit(features_upsampled, target_upsampled) # обучим модель вызовом метода fit()\n",
    "    predicted_valid = model.predict(features_valid) # получим предсказания модели\n",
    "    print('depth', depth, 'f1', f1_score(target_valid, predicted_valid)) # напечатаем f1"
   ]
  },
  {
   "cell_type": "markdown",
   "metadata": {},
   "source": [
    "Наилучший показатель f1 = 0,61 при depth 13"
   ]
  },
  {
   "cell_type": "code",
   "execution_count": 27,
   "metadata": {},
   "outputs": [
    {
     "name": "stdout",
     "output_type": "stream",
     "text": [
      "est 20 f1 0.6153846153846154\n",
      "est 25 f1 0.6174334140435835\n",
      "est 30 f1 0.6272617611580217\n",
      "est 35 f1 0.6118500604594921\n",
      "est 40 f1 0.619277108433735\n",
      "est 45 f1 0.6103739445114595\n",
      "est 50 f1 0.6107055961070559\n",
      "est 55 f1 0.608058608058608\n",
      "est 60 f1 0.6095471236230111\n",
      "est 65 f1 0.6161369193154034\n",
      "est 70 f1 0.6138855054811206\n",
      "est 75 f1 0.6172539489671932\n",
      "est 80 f1 0.6170731707317073\n",
      "est 85 f1 0.6114494518879415\n",
      "est 90 f1 0.6133333333333333\n",
      "est 95 f1 0.6135265700483091\n",
      "est 100 f1 0.6135265700483091\n",
      "est 105 f1 0.6157575757575757\n",
      "est 110 f1 0.6172539489671932\n",
      "est 115 f1 0.6211936662606576\n",
      "est 120 f1 0.6211936662606576\n",
      "est 125 f1 0.6211936662606576\n",
      "est 130 f1 0.6178266178266177\n",
      "est 135 f1 0.6181818181818183\n",
      "est 140 f1 0.6170731707317073\n",
      "est 145 f1 0.6172539489671932\n",
      "CPU times: user 17.6 s, sys: 139 ms, total: 17.7 s\n",
      "Wall time: 17.9 s\n"
     ]
    }
   ],
   "source": [
    "%%time\n",
    "\n",
    "#Увеличиваем количество деревьев\n",
    "for est in range(20,150,5):\n",
    "    model = RandomForestClassifier(random_state=12345, max_depth=13, n_estimators=est) # обучим модель с заданной глубиной дерева\n",
    "    model.fit(features_upsampled, target_upsampled) # обучим модель вызовом метода fit()\n",
    "    predicted_valid = model.predict(features_valid) # получим предсказания модели\n",
    "    print('est', est, 'f1', f1_score(target_valid, predicted_valid)) # напечатаем f1"
   ]
  },
  {
   "cell_type": "markdown",
   "metadata": {},
   "source": [
    "Наилучший показатель f1 = 0,61 при depth 13 и est 120"
   ]
  },
  {
   "cell_type": "code",
   "execution_count": 28,
   "metadata": {},
   "outputs": [
    {
     "name": "stdout",
     "output_type": "stream",
     "text": [
      "f1 0.4888507718696398\n",
      "CPU times: user 23 ms, sys: 27.8 ms, total: 50.8 ms\n",
      "Wall time: 26.6 ms\n"
     ]
    }
   ],
   "source": [
    "%%time\n",
    "\n",
    "#Построим модель логистической регрессии\n",
    "model = LogisticRegression(solver='liblinear', random_state=12345, class_weight='balanced')\n",
    "model.fit(features_upsampled, target_upsampled) # обучим модель вызовом метода fit()\n",
    "predicted_valid = model.predict(features_valid) # получим предсказания модели\n",
    "print('f1', f1_score(target_valid, predicted_valid)) # напечатаем f1"
   ]
  },
  {
   "cell_type": "markdown",
   "metadata": {},
   "source": [
    "f1 = 0,48"
   ]
  },
  {
   "cell_type": "code",
   "execution_count": 29,
   "metadata": {
    "scrolled": true
   },
   "outputs": [
    {
     "data": {
      "image/png": "[encoded data removed]",
      "text/plain": [
       "<Figure size 432x288 with 1 Axes>"
      ]
     },
     "metadata": {
      "needs_background": "light"
     },
     "output_type": "display_data"
    }
   ],
   "source": [
    "#Исследуем метрику AUC-ROC для решающего дерева\n",
    "model = DecisionTreeClassifier(random_state=12345, max_depth=5) # обучим модель с заданной глубиной дерева\n",
    "model.fit(features_upsampled, target_upsampled) # обучим модель вызовом метода fit()\n",
    "\n",
    "probabilities_valid = model.predict_proba(features_valid)\n",
    "probabilities_one_valid = probabilities_valid[:, 1]\n",
    "\n",
    "fpr_tree, tpr_tree, thresholds = roc_curve(target_valid, probabilities_valid[:, 1])\n",
    "\n",
    "#Исследуем метрику AUC-ROC для случайного леса\n",
    "model = RandomForestClassifier(random_state=12345, max_depth=13, n_estimators=120) # обучим модель с заданной глубиной дерева\n",
    "model.fit(features_upsampled, target_upsampled) # обучим модель вызовом метода fit()\n",
    "\n",
    "probabilities_valid = model.predict_proba(features_valid)\n",
    "probabilities_one_valid = probabilities_valid[:, 1]\n",
    "\n",
    "fpr_forest, tpr_forest, thresholds = roc_curve(target_valid, probabilities_valid[:, 1])\n",
    "\n",
    "#Исследуем метрику AUC-ROC для логистической регрессии\n",
    "model = LogisticRegression(solver='liblinear', random_state=12345, class_weight='balanced')\n",
    "model.fit(features_upsampled, target_upsampled) # обучим модель вызовом метода fit()\n",
    "\n",
    "probabilities_valid = model.predict_proba(features_valid)\n",
    "probabilities_one_valid = probabilities_valid[:, 1]\n",
    "\n",
    "fpr_regression, tpr_regression, thresholds = roc_curve(target_valid, probabilities_valid[:, 1])\n",
    "\n",
    "#Построим графики\n",
    "plt.figure()\n",
    "\n",
    "#ROC-кривая случайной модели (выглядит как прямая)\n",
    "plt.plot([0, 1], [0, 1], linestyle='--', label='Случайная модель')\n",
    "plt.plot(fpr_tree, tpr_tree, label='Решающее дерево')\n",
    "plt.plot(fpr_forest, tpr_forest, label='Случайный лес')\n",
    "plt.plot(fpr_regression, tpr_regression, label='Логистическая регрессия')\n",
    "\n",
    "plt.xlim(0.0, 1.0)\n",
    "plt.ylim(0.0, 1.0)\n",
    "\n",
    "plt.xlabel('False Positive Rate')\n",
    "plt.ylabel('True Positive Rate')\n",
    "\n",
    "plt.title('ROC-кривая')\n",
    "plt.legend(loc='lower right')\n",
    "plt.show()"
   ]
  },
  {
   "cell_type": "code",
   "execution_count": 30,
   "metadata": {},
   "outputs": [
    {
     "name": "stdout",
     "output_type": "stream",
     "text": [
      "0.8472906925398774\n"
     ]
    }
   ],
   "source": [
    "#Посчитаем AUC-ROC\n",
    "model = RandomForestClassifier(random_state=12345, max_depth=13, n_estimators=120) # обучим модель с заданной глубиной дерева\n",
    "model.fit(features_upsampled, target_upsampled) # обучим модель вызовом метода fit()\n",
    "\n",
    "probabilities_valid = model.predict_proba(features_valid)\n",
    "probabilities_one_valid = probabilities_valid[:, 1]\n",
    "\n",
    "auc_roc = roc_auc_score(target_valid, probabilities_one_valid)\n",
    "\n",
    "print(auc_roc)"
   ]
  },
  {
   "cell_type": "markdown",
   "metadata": {},
   "source": [
    "AUC-ROC = 0,84, что довольно далеко до идеального (AUC-ROC = 1)"
   ]
  },
  {
   "cell_type": "markdown",
   "metadata": {},
   "source": [
    "### Вывод\n",
    "1. Применили разные способы борьбы с дисбалансом: взвешивания классов, увеличения выборки, уменьшение выборки\n",
    "2. Нашли ниулучшую модель - \"Случайны лес\" с параметрами глубина 13 и количество деревьев 120\n",
    "3. Показатель AUC-ROC лучшей модели = 0,84"
   ]
  },
  {
   "cell_type": "markdown",
   "metadata": {},
   "source": [
    "## Тестирование модели"
   ]
  },
  {
   "cell_type": "code",
   "execution_count": 31,
   "metadata": {},
   "outputs": [
    {
     "name": "stdout",
     "output_type": "stream",
     "text": [
      "f1 0.6057692307692307\n"
     ]
    }
   ],
   "source": [
    "#Проверим модель на тестовой выборке\n",
    "model = RandomForestClassifier(random_state=12345, max_depth=13, n_estimators=120) # обучим модель с заданной глубиной дерева\n",
    "model.fit(features_upsampled, target_upsampled) # обучим модель вызовом метода fit()\n",
    "predicted_test = model.predict(features_test) # получим предсказания модели\n",
    "print('f1', f1_score(target_test, predicted_test)) # напечатаем f1"
   ]
  },
  {
   "cell_type": "code",
   "execution_count": 32,
   "metadata": {},
   "outputs": [
    {
     "name": "stdout",
     "output_type": "stream",
     "text": [
      "AUC-ROC 0.8523410551500514\n"
     ]
    }
   ],
   "source": [
    "#Посчитаем AUC-ROC\n",
    "model = RandomForestClassifier(random_state=12345, max_depth=13, n_estimators=120) # обучим модель с заданной глубиной дерева\n",
    "model.fit(features_upsampled, target_upsampled) # обучим модель вызовом метода fit()\n",
    "\n",
    "probabilities_test = model.predict_proba(features_test)\n",
    "probabilities_one_test = probabilities_test[:, 1]\n",
    "\n",
    "auc_roc = roc_auc_score(target_test, probabilities_one_test)\n",
    "\n",
    "print('AUC-ROC', auc_roc)"
   ]
  },
  {
   "cell_type": "code",
   "execution_count": 33,
   "metadata": {},
   "outputs": [
    {
     "name": "stdout",
     "output_type": "stream",
     "text": [
      "Полнота 0.5957446808510638\n"
     ]
    }
   ],
   "source": [
    "#Посчитаем долю правильных ответов, полноту\n",
    "model = RandomForestClassifier(random_state=12345, max_depth=13, n_estimators=120) # обучим модель с заданной глубиной дерева\n",
    "model.fit(features_upsampled, target_upsampled) # обучим модель вызовом метода fit()\n",
    "predicted_test = model.predict(features_test) # получим предсказания модели\n",
    "print('Полнота', recall_score(target_test, predicted_test)) # напечатаем"
   ]
  },
  {
   "cell_type": "code",
   "execution_count": 34,
   "metadata": {},
   "outputs": [
    {
     "name": "stdout",
     "output_type": "stream",
     "text": [
      "Точность 0.6161369193154034\n"
     ]
    }
   ],
   "source": [
    "#Посчитаем точность, какая доля объектов, отмеченных моделью как положительные, на самом деле такие\n",
    "model = RandomForestClassifier(random_state=12345, max_depth=13, n_estimators=120) # обучим модель с заданной глубиной дерева\n",
    "model.fit(features_upsampled, target_upsampled) # обучим модель вызовом метода fit()\n",
    "predicted_test = model.predict(features_test) # получим предсказания модели\n",
    "print('Точность', precision_score(target_test, predicted_test)) # напечатаем"
   ]
  },
  {
   "cell_type": "code",
   "execution_count": 35,
   "metadata": {},
   "outputs": [
    {
     "name": "stdout",
     "output_type": "stream",
     "text": [
      "AUC-ROC 0.5\n"
     ]
    }
   ],
   "source": [
    "#Создадим константную модель\n",
    "target_pred_constant = pd.Series(0, index=target_test.index)\n",
    "#Посчитаем AUC-ROC\n",
    "print('AUC-ROC', roc_auc_score(target_test, target_pred_constant))"
   ]
  },
  {
   "cell_type": "markdown",
   "metadata": {},
   "source": [
    "AUC-ROC константной модели значительно хуже, 0,5 против 0,85"
   ]
  },
  {
   "cell_type": "markdown",
   "metadata": {},
   "source": [
    "### Вывод\n",
    "1. Проверили модель на тестовой выборке, AUC-ROC стал лучше, 0,85 против 0,84\n",
    "2. Сравнили с константной моделью, 0,85 против 0,5"
   ]
  },
  {
   "cell_type": "markdown",
   "metadata": {},
   "source": [
    "## Общие выводы"
   ]
  },
  {
   "cell_type": "markdown",
   "metadata": {},
   "source": [
    "1. Наилучшая модель \"Случайны лес\", при глубине 13 и количестве деревьев 120\n",
    "2. AUC-ROC на тестовой выборке = 0,85, что далеко до идеального (AUC-ROC = 1), но в тоже время неплохой результат\n",
    "3. Полнота 0.59, точность 0,61"
   ]
  },
  {
   "cell_type": "markdown",
   "metadata": {},
   "source": [
    "## Чек-лист готовности проекта"
   ]
  },
  {
   "cell_type": "markdown",
   "metadata": {},
   "source": [
    "Поставьте 'x' в выполненных пунктах. Далее нажмите Shift+Enter."
   ]
  },
  {
   "cell_type": "markdown",
   "metadata": {},
   "source": [
    "- [x]  Jupyter Notebook открыт\n",
    "- [x]  Весь код выполняется без ошибок\n",
    "- [x]  Ячейки с кодом расположены в порядке исполнения\n",
    "- [x]  Выполнен шаг 1: данные подготовлены\n",
    "- [x]  Выполнен шаг 2: задача исследована\n",
    "    - [x]  Исследован баланс классов\n",
    "    - [x]  Изучены модели без учёта дисбаланса\n",
    "    - [x]  Написаны выводы по результатам исследования\n",
    "- [x]  Выполнен шаг 3: учтён дисбаланс\n",
    "    - [x]  Применено несколько способов борьбы с дисбалансом\n",
    "    - [x]  Написаны выводы по результатам исследования\n",
    "- [x]  Выполнен шаг 4: проведено тестирование\n",
    "- [x]  Удалось достичь *F1*-меры не менее 0.59\n",
    "- [x]  Исследована метрика *AUC-ROC*"
   ]
  },
  {
   "cell_type": "code",
   "execution_count": null,
   "metadata": {},
   "outputs": [],
   "source": []
  }
 ],
 "metadata": {
  "ExecuteTimeLog": [
   {
    "duration": 418,
    "start_time": "2023-03-08T18:29:15.819Z"
   },
   {
    "duration": 76,
    "start_time": "2023-03-08T18:31:39.426Z"
   },
   {
    "duration": 45,
    "start_time": "2023-03-08T18:32:22.413Z"
   },
   {
    "duration": 9,
    "start_time": "2023-03-08T19:26:09.298Z"
   },
   {
    "duration": 77,
    "start_time": "2023-03-08T21:02:16.354Z"
   },
   {
    "duration": 39,
    "start_time": "2023-03-08T21:02:40.178Z"
   },
   {
    "duration": 41,
    "start_time": "2023-03-08T21:02:54.178Z"
   },
   {
    "duration": 23,
    "start_time": "2023-03-08T21:04:41.977Z"
   },
   {
    "duration": 12,
    "start_time": "2023-03-08T21:05:08.721Z"
   },
   {
    "duration": 402,
    "start_time": "2023-03-08T21:05:14.099Z"
   },
   {
    "duration": 39,
    "start_time": "2023-03-08T21:05:14.507Z"
   },
   {
    "duration": 46,
    "start_time": "2023-03-08T21:05:14.547Z"
   },
   {
    "duration": 8,
    "start_time": "2023-03-08T21:05:14.606Z"
   },
   {
    "duration": 4,
    "start_time": "2023-03-08T21:05:14.616Z"
   },
   {
    "duration": 17,
    "start_time": "2023-03-08T21:05:14.621Z"
   },
   {
    "duration": 85,
    "start_time": "2023-03-08T21:35:02.838Z"
   },
   {
    "duration": 687,
    "start_time": "2023-03-08T21:35:34.734Z"
   },
   {
    "duration": 68,
    "start_time": "2023-03-08T21:42:15.354Z"
   },
   {
    "duration": 16,
    "start_time": "2023-03-08T21:42:31.319Z"
   },
   {
    "duration": 1159,
    "start_time": "2023-03-09T06:21:17.385Z"
   },
   {
    "duration": 93,
    "start_time": "2023-03-09T06:21:18.546Z"
   },
   {
    "duration": 67,
    "start_time": "2023-03-09T06:21:18.642Z"
   },
   {
    "duration": 15,
    "start_time": "2023-03-09T06:21:18.716Z"
   },
   {
    "duration": 4,
    "start_time": "2023-03-09T06:21:18.733Z"
   },
   {
    "duration": 78,
    "start_time": "2023-03-09T06:21:18.739Z"
   },
   {
    "duration": 15,
    "start_time": "2023-03-09T06:21:18.819Z"
   },
   {
    "duration": 1139,
    "start_time": "2023-03-09T08:50:51.727Z"
   },
   {
    "duration": 46,
    "start_time": "2023-03-09T08:50:52.869Z"
   },
   {
    "duration": 69,
    "start_time": "2023-03-09T08:50:52.918Z"
   },
   {
    "duration": 17,
    "start_time": "2023-03-09T08:50:52.990Z"
   },
   {
    "duration": 21,
    "start_time": "2023-03-09T08:50:53.013Z"
   },
   {
    "duration": 37,
    "start_time": "2023-03-09T08:50:53.038Z"
   },
   {
    "duration": 158,
    "start_time": "2023-03-09T08:50:53.077Z"
   },
   {
    "duration": 1148,
    "start_time": "2023-03-09T09:01:45.686Z"
   },
   {
    "duration": 45,
    "start_time": "2023-03-09T09:01:46.836Z"
   },
   {
    "duration": 75,
    "start_time": "2023-03-09T09:01:46.882Z"
   },
   {
    "duration": 11,
    "start_time": "2023-03-09T09:01:46.960Z"
   },
   {
    "duration": 16,
    "start_time": "2023-03-09T09:01:46.973Z"
   },
   {
    "duration": 38,
    "start_time": "2023-03-09T09:01:46.992Z"
   },
   {
    "duration": 33,
    "start_time": "2023-03-09T09:01:47.033Z"
   },
   {
    "duration": 13,
    "start_time": "2023-03-09T09:02:13.920Z"
   },
   {
    "duration": 4,
    "start_time": "2023-03-09T09:03:15.074Z"
   },
   {
    "duration": 44,
    "start_time": "2023-03-09T09:35:00.350Z"
   },
   {
    "duration": 31,
    "start_time": "2023-03-09T09:35:47.768Z"
   },
   {
    "duration": 1130,
    "start_time": "2023-03-09T09:36:02.104Z"
   },
   {
    "duration": 53,
    "start_time": "2023-03-09T09:36:03.236Z"
   },
   {
    "duration": 55,
    "start_time": "2023-03-09T09:36:03.290Z"
   },
   {
    "duration": 12,
    "start_time": "2023-03-09T09:36:03.347Z"
   },
   {
    "duration": 18,
    "start_time": "2023-03-09T09:36:03.362Z"
   },
   {
    "duration": 36,
    "start_time": "2023-03-09T09:36:03.382Z"
   },
   {
    "duration": 12,
    "start_time": "2023-03-09T09:36:03.420Z"
   },
   {
    "duration": 65,
    "start_time": "2023-03-09T09:36:03.433Z"
   },
   {
    "duration": 1129,
    "start_time": "2023-03-09T09:36:32.207Z"
   },
   {
    "duration": 50,
    "start_time": "2023-03-09T09:36:33.338Z"
   },
   {
    "duration": 48,
    "start_time": "2023-03-09T09:36:33.390Z"
   },
   {
    "duration": 10,
    "start_time": "2023-03-09T09:36:33.441Z"
   },
   {
    "duration": 9,
    "start_time": "2023-03-09T09:36:33.458Z"
   },
   {
    "duration": 47,
    "start_time": "2023-03-09T09:36:33.469Z"
   },
   {
    "duration": 17,
    "start_time": "2023-03-09T09:36:33.519Z"
   },
   {
    "duration": 50,
    "start_time": "2023-03-09T09:36:33.537Z"
   },
   {
    "duration": 1129,
    "start_time": "2023-03-09T09:36:51.144Z"
   },
   {
    "duration": 43,
    "start_time": "2023-03-09T09:36:52.276Z"
   },
   {
    "duration": 57,
    "start_time": "2023-03-09T09:36:52.321Z"
   },
   {
    "duration": 8,
    "start_time": "2023-03-09T09:36:52.381Z"
   },
   {
    "duration": 7,
    "start_time": "2023-03-09T09:36:52.391Z"
   },
   {
    "duration": 26,
    "start_time": "2023-03-09T09:36:52.400Z"
   },
   {
    "duration": 12,
    "start_time": "2023-03-09T09:36:52.427Z"
   },
   {
    "duration": 51,
    "start_time": "2023-03-09T09:36:52.441Z"
   },
   {
    "duration": 127,
    "start_time": "2023-03-09T12:21:39.390Z"
   },
   {
    "duration": 9,
    "start_time": "2023-03-09T12:21:51.985Z"
   },
   {
    "duration": 1217,
    "start_time": "2023-03-09T15:34:50.973Z"
   },
   {
    "duration": 48,
    "start_time": "2023-03-09T15:34:52.193Z"
   },
   {
    "duration": 57,
    "start_time": "2023-03-09T15:34:52.243Z"
   },
   {
    "duration": 9,
    "start_time": "2023-03-09T15:34:52.303Z"
   },
   {
    "duration": 8,
    "start_time": "2023-03-09T15:34:52.313Z"
   },
   {
    "duration": 40,
    "start_time": "2023-03-09T15:34:52.323Z"
   },
   {
    "duration": 16,
    "start_time": "2023-03-09T15:34:52.366Z"
   },
   {
    "duration": 37,
    "start_time": "2023-03-09T15:34:52.384Z"
   },
   {
    "duration": 6,
    "start_time": "2023-03-09T15:34:52.422Z"
   },
   {
    "duration": 145,
    "start_time": "2023-03-09T15:34:52.430Z"
   },
   {
    "duration": 1356,
    "start_time": "2023-03-09T15:36:20.154Z"
   },
   {
    "duration": 43,
    "start_time": "2023-03-09T15:36:21.512Z"
   },
   {
    "duration": 57,
    "start_time": "2023-03-09T15:36:21.557Z"
   },
   {
    "duration": 10,
    "start_time": "2023-03-09T15:36:21.617Z"
   },
   {
    "duration": 4,
    "start_time": "2023-03-09T15:36:21.629Z"
   },
   {
    "duration": 34,
    "start_time": "2023-03-09T15:36:21.658Z"
   },
   {
    "duration": 12,
    "start_time": "2023-03-09T15:36:21.694Z"
   },
   {
    "duration": 29,
    "start_time": "2023-03-09T15:36:21.708Z"
   },
   {
    "duration": 24,
    "start_time": "2023-03-09T15:36:21.739Z"
   },
   {
    "duration": 138,
    "start_time": "2023-03-09T15:36:21.766Z"
   },
   {
    "duration": 9,
    "start_time": "2023-03-09T15:40:50.315Z"
   },
   {
    "duration": 1116,
    "start_time": "2023-03-09T15:40:55.587Z"
   },
   {
    "duration": 42,
    "start_time": "2023-03-09T15:40:56.705Z"
   },
   {
    "duration": 49,
    "start_time": "2023-03-09T15:40:56.748Z"
   },
   {
    "duration": 10,
    "start_time": "2023-03-09T15:40:56.799Z"
   },
   {
    "duration": 7,
    "start_time": "2023-03-09T15:40:56.811Z"
   },
   {
    "duration": 13,
    "start_time": "2023-03-09T15:40:56.819Z"
   },
   {
    "duration": 32,
    "start_time": "2023-03-09T15:40:56.833Z"
   },
   {
    "duration": 24,
    "start_time": "2023-03-09T15:40:56.867Z"
   },
   {
    "duration": 7,
    "start_time": "2023-03-09T15:40:56.892Z"
   },
   {
    "duration": 83,
    "start_time": "2023-03-09T15:40:56.901Z"
   },
   {
    "duration": 49,
    "start_time": "2023-03-09T15:42:47.992Z"
   },
   {
    "duration": 1225,
    "start_time": "2023-03-09T15:43:47.733Z"
   },
   {
    "duration": 50,
    "start_time": "2023-03-09T15:43:48.963Z"
   },
   {
    "duration": 52,
    "start_time": "2023-03-09T15:43:49.015Z"
   },
   {
    "duration": 13,
    "start_time": "2023-03-09T15:43:49.070Z"
   },
   {
    "duration": 4,
    "start_time": "2023-03-09T15:43:49.085Z"
   },
   {
    "duration": 12,
    "start_time": "2023-03-09T15:43:49.091Z"
   },
   {
    "duration": 10,
    "start_time": "2023-03-09T15:43:49.105Z"
   },
   {
    "duration": 71,
    "start_time": "2023-03-09T15:43:49.116Z"
   },
   {
    "duration": 7,
    "start_time": "2023-03-09T15:43:49.189Z"
   },
   {
    "duration": 70,
    "start_time": "2023-03-09T15:43:49.198Z"
   },
   {
    "duration": 1113,
    "start_time": "2023-03-09T15:47:42.675Z"
   },
   {
    "duration": 43,
    "start_time": "2023-03-09T15:47:43.790Z"
   },
   {
    "duration": 57,
    "start_time": "2023-03-09T15:47:43.835Z"
   },
   {
    "duration": 9,
    "start_time": "2023-03-09T15:47:43.894Z"
   },
   {
    "duration": 2,
    "start_time": "2023-03-09T15:47:43.905Z"
   },
   {
    "duration": 12,
    "start_time": "2023-03-09T15:47:43.909Z"
   },
   {
    "duration": 35,
    "start_time": "2023-03-09T15:47:43.922Z"
   },
   {
    "duration": 34,
    "start_time": "2023-03-09T15:47:43.959Z"
   },
   {
    "duration": 6,
    "start_time": "2023-03-09T15:47:43.995Z"
   },
   {
    "duration": 137,
    "start_time": "2023-03-09T15:47:44.003Z"
   },
   {
    "duration": 51,
    "start_time": "2023-03-09T17:31:11.716Z"
   },
   {
    "duration": 1265,
    "start_time": "2023-03-09T17:31:15.943Z"
   },
   {
    "duration": 100,
    "start_time": "2023-03-09T17:31:17.211Z"
   },
   {
    "duration": 63,
    "start_time": "2023-03-09T17:31:17.314Z"
   },
   {
    "duration": 11,
    "start_time": "2023-03-09T17:31:17.380Z"
   },
   {
    "duration": 7,
    "start_time": "2023-03-09T17:31:17.393Z"
   },
   {
    "duration": 23,
    "start_time": "2023-03-09T17:31:17.402Z"
   },
   {
    "duration": 25,
    "start_time": "2023-03-09T17:31:17.427Z"
   },
   {
    "duration": 17,
    "start_time": "2023-03-09T17:31:17.454Z"
   },
   {
    "duration": 38,
    "start_time": "2023-03-09T17:31:17.473Z"
   },
   {
    "duration": 7,
    "start_time": "2023-03-09T17:31:17.514Z"
   },
   {
    "duration": 71,
    "start_time": "2023-03-09T17:31:17.523Z"
   },
   {
    "duration": 11,
    "start_time": "2023-03-09T17:31:41.801Z"
   },
   {
    "duration": 1221,
    "start_time": "2023-03-09T17:31:45.424Z"
   },
   {
    "duration": 44,
    "start_time": "2023-03-09T17:31:46.647Z"
   },
   {
    "duration": 49,
    "start_time": "2023-03-09T17:31:46.693Z"
   },
   {
    "duration": 13,
    "start_time": "2023-03-09T17:31:46.745Z"
   },
   {
    "duration": 31,
    "start_time": "2023-03-09T17:31:46.760Z"
   },
   {
    "duration": 15,
    "start_time": "2023-03-09T17:31:46.792Z"
   },
   {
    "duration": 19,
    "start_time": "2023-03-09T17:31:46.809Z"
   },
   {
    "duration": 22,
    "start_time": "2023-03-09T17:31:46.830Z"
   },
   {
    "duration": 22,
    "start_time": "2023-03-09T17:31:46.854Z"
   },
   {
    "duration": 39,
    "start_time": "2023-03-09T17:31:46.879Z"
   },
   {
    "duration": 18,
    "start_time": "2023-03-09T17:31:46.920Z"
   },
   {
    "duration": 69,
    "start_time": "2023-03-09T17:31:46.939Z"
   },
   {
    "duration": 1047,
    "start_time": "2023-03-09T17:33:37.836Z"
   },
   {
    "duration": 41,
    "start_time": "2023-03-09T17:33:38.885Z"
   },
   {
    "duration": 45,
    "start_time": "2023-03-09T17:33:38.928Z"
   },
   {
    "duration": 9,
    "start_time": "2023-03-09T17:33:38.975Z"
   },
   {
    "duration": 5,
    "start_time": "2023-03-09T17:33:38.986Z"
   },
   {
    "duration": 14,
    "start_time": "2023-03-09T17:33:38.993Z"
   },
   {
    "duration": 12,
    "start_time": "2023-03-09T17:33:39.009Z"
   },
   {
    "duration": 6,
    "start_time": "2023-03-09T17:33:39.023Z"
   },
   {
    "duration": 12,
    "start_time": "2023-03-09T17:33:39.031Z"
   },
   {
    "duration": 47,
    "start_time": "2023-03-09T17:33:39.045Z"
   },
   {
    "duration": 5,
    "start_time": "2023-03-09T17:33:39.094Z"
   },
   {
    "duration": 235,
    "start_time": "2023-03-09T17:33:39.101Z"
   },
   {
    "duration": 1207,
    "start_time": "2023-03-09T17:34:04.695Z"
   },
   {
    "duration": 44,
    "start_time": "2023-03-09T17:34:05.904Z"
   },
   {
    "duration": 49,
    "start_time": "2023-03-09T17:34:05.950Z"
   },
   {
    "duration": 11,
    "start_time": "2023-03-09T17:34:06.001Z"
   },
   {
    "duration": 7,
    "start_time": "2023-03-09T17:34:06.013Z"
   },
   {
    "duration": 14,
    "start_time": "2023-03-09T17:34:06.022Z"
   },
   {
    "duration": 17,
    "start_time": "2023-03-09T17:34:06.038Z"
   },
   {
    "duration": 40,
    "start_time": "2023-03-09T17:34:06.057Z"
   },
   {
    "duration": 40,
    "start_time": "2023-03-09T17:34:06.102Z"
   },
   {
    "duration": 5,
    "start_time": "2023-03-09T17:34:06.145Z"
   },
   {
    "duration": 268,
    "start_time": "2023-03-09T17:34:06.152Z"
   },
   {
    "duration": 583,
    "start_time": "2023-03-09T17:57:07.179Z"
   },
   {
    "duration": 483,
    "start_time": "2023-03-09T18:48:54.858Z"
   },
   {
    "duration": 153,
    "start_time": "2023-03-09T18:58:43.742Z"
   },
   {
    "duration": 1916,
    "start_time": "2023-03-09T18:59:12.375Z"
   },
   {
    "duration": 23024,
    "start_time": "2023-03-09T19:03:41.170Z"
   },
   {
    "duration": 4,
    "start_time": "2023-03-09T19:05:04.878Z"
   },
   {
    "duration": 1864,
    "start_time": "2023-03-09T19:06:43.453Z"
   },
   {
    "duration": 22634,
    "start_time": "2023-03-09T19:07:00.563Z"
   },
   {
    "duration": 22833,
    "start_time": "2023-03-09T19:09:03.024Z"
   },
   {
    "duration": 159,
    "start_time": "2023-03-09T19:11:59.538Z"
   },
   {
    "duration": 16384,
    "start_time": "2023-03-09T19:24:37.602Z"
   },
   {
    "duration": 23,
    "start_time": "2023-03-09T20:55:01.985Z"
   },
   {
    "duration": 1135,
    "start_time": "2023-03-09T20:55:28.256Z"
   },
   {
    "duration": 44,
    "start_time": "2023-03-09T20:55:29.393Z"
   },
   {
    "duration": 60,
    "start_time": "2023-03-09T20:55:29.439Z"
   },
   {
    "duration": 11,
    "start_time": "2023-03-09T20:55:29.502Z"
   },
   {
    "duration": 6,
    "start_time": "2023-03-09T20:55:29.515Z"
   },
   {
    "duration": 16,
    "start_time": "2023-03-09T20:55:29.523Z"
   },
   {
    "duration": 29,
    "start_time": "2023-03-09T20:55:29.541Z"
   },
   {
    "duration": 26,
    "start_time": "2023-03-09T20:55:29.572Z"
   },
   {
    "duration": 32,
    "start_time": "2023-03-09T20:55:29.601Z"
   },
   {
    "duration": 388,
    "start_time": "2023-03-09T20:55:29.636Z"
   },
   {
    "duration": 527,
    "start_time": "2023-03-09T20:55:30.026Z"
   },
   {
    "duration": 1899,
    "start_time": "2023-03-09T20:55:30.556Z"
   },
   {
    "duration": 15816,
    "start_time": "2023-03-09T20:55:32.457Z"
   },
   {
    "duration": 216,
    "start_time": "2023-03-09T20:55:48.275Z"
   },
   {
    "duration": 108,
    "start_time": "2023-03-09T20:55:48.495Z"
   },
   {
    "duration": 12,
    "start_time": "2023-03-09T21:00:03.921Z"
   },
   {
    "duration": 42,
    "start_time": "2023-03-09T21:09:01.401Z"
   },
   {
    "duration": 57,
    "start_time": "2023-03-09T21:09:46.079Z"
   },
   {
    "duration": 49,
    "start_time": "2023-03-09T21:10:14.618Z"
   },
   {
    "duration": 68,
    "start_time": "2023-03-09T21:12:21.614Z"
   },
   {
    "duration": 581,
    "start_time": "2023-03-09T21:18:04.407Z"
   },
   {
    "duration": 2407,
    "start_time": "2023-03-09T21:21:00.339Z"
   },
   {
    "duration": 22677,
    "start_time": "2023-03-09T21:22:43.737Z"
   },
   {
    "duration": 22574,
    "start_time": "2023-03-09T21:23:15.517Z"
   },
   {
    "duration": 22663,
    "start_time": "2023-03-09T21:24:02.974Z"
   },
   {
    "duration": 71,
    "start_time": "2023-03-09T21:27:05.824Z"
   },
   {
    "duration": 16,
    "start_time": "2023-03-09T21:32:47.541Z"
   },
   {
    "duration": 1107,
    "start_time": "2023-03-09T21:32:52.878Z"
   },
   {
    "duration": 42,
    "start_time": "2023-03-09T21:32:53.986Z"
   },
   {
    "duration": 46,
    "start_time": "2023-03-09T21:32:54.030Z"
   },
   {
    "duration": 9,
    "start_time": "2023-03-09T21:32:54.078Z"
   },
   {
    "duration": 5,
    "start_time": "2023-03-09T21:32:54.089Z"
   },
   {
    "duration": 20,
    "start_time": "2023-03-09T21:32:54.096Z"
   },
   {
    "duration": 18,
    "start_time": "2023-03-09T21:32:54.117Z"
   },
   {
    "duration": 11,
    "start_time": "2023-03-09T21:32:54.137Z"
   },
   {
    "duration": 46,
    "start_time": "2023-03-09T21:32:54.150Z"
   },
   {
    "duration": 369,
    "start_time": "2023-03-09T21:32:54.197Z"
   },
   {
    "duration": 495,
    "start_time": "2023-03-09T21:32:54.567Z"
   },
   {
    "duration": 1837,
    "start_time": "2023-03-09T21:32:55.064Z"
   },
   {
    "duration": 15582,
    "start_time": "2023-03-09T21:32:56.902Z"
   },
   {
    "duration": 24,
    "start_time": "2023-03-09T21:33:12.486Z"
   },
   {
    "duration": 107,
    "start_time": "2023-03-09T21:33:12.592Z"
   },
   {
    "duration": 12,
    "start_time": "2023-03-09T21:33:12.700Z"
   },
   {
    "duration": 568,
    "start_time": "2023-03-09T21:33:12.714Z"
   },
   {
    "duration": 2404,
    "start_time": "2023-03-09T21:33:13.283Z"
   },
   {
    "duration": 22561,
    "start_time": "2023-03-09T21:33:15.690Z"
   },
   {
    "duration": 140,
    "start_time": "2023-03-09T21:33:38.253Z"
   },
   {
    "duration": 83,
    "start_time": "2023-03-09T21:36:40.509Z"
   },
   {
    "duration": 4,
    "start_time": "2023-03-09T21:43:04.477Z"
   },
   {
    "duration": 1740,
    "start_time": "2023-03-09T21:49:55.396Z"
   },
   {
    "duration": 1280,
    "start_time": "2023-03-09T21:50:21.338Z"
   },
   {
    "duration": 42,
    "start_time": "2023-03-09T21:50:22.620Z"
   },
   {
    "duration": 41,
    "start_time": "2023-03-09T21:50:22.664Z"
   },
   {
    "duration": 9,
    "start_time": "2023-03-09T21:50:22.708Z"
   },
   {
    "duration": 4,
    "start_time": "2023-03-09T21:50:22.718Z"
   },
   {
    "duration": 13,
    "start_time": "2023-03-09T21:50:22.724Z"
   },
   {
    "duration": 19,
    "start_time": "2023-03-09T21:50:22.739Z"
   },
   {
    "duration": 30,
    "start_time": "2023-03-09T21:50:22.760Z"
   },
   {
    "duration": 30,
    "start_time": "2023-03-09T21:50:22.792Z"
   },
   {
    "duration": 139,
    "start_time": "2023-03-09T21:50:22.825Z"
   },
   {
    "duration": 490,
    "start_time": "2023-03-09T21:50:22.966Z"
   },
   {
    "duration": 1825,
    "start_time": "2023-03-09T21:50:23.458Z"
   },
   {
    "duration": 15473,
    "start_time": "2023-03-09T21:50:25.285Z"
   },
   {
    "duration": 34,
    "start_time": "2023-03-09T21:50:40.760Z"
   },
   {
    "duration": 108,
    "start_time": "2023-03-09T21:50:40.797Z"
   },
   {
    "duration": 90,
    "start_time": "2023-03-09T21:50:40.906Z"
   },
   {
    "duration": 569,
    "start_time": "2023-03-09T21:50:40.998Z"
   },
   {
    "duration": 2340,
    "start_time": "2023-03-09T21:50:41.569Z"
   },
   {
    "duration": 22407,
    "start_time": "2023-03-09T21:50:43.910Z"
   },
   {
    "duration": 85,
    "start_time": "2023-03-09T21:51:06.319Z"
   },
   {
    "duration": 1703,
    "start_time": "2023-03-09T21:51:06.496Z"
   },
   {
    "duration": 1679,
    "start_time": "2023-03-09T21:53:08.315Z"
   },
   {
    "duration": 1658,
    "start_time": "2023-03-09T21:55:21.741Z"
   },
   {
    "duration": 1652,
    "start_time": "2023-03-09T21:56:34.049Z"
   },
   {
    "duration": 1744,
    "start_time": "2023-03-09T21:57:49.199Z"
   },
   {
    "duration": 4,
    "start_time": "2023-03-09T21:59:14.374Z"
   },
   {
    "duration": 3,
    "start_time": "2023-03-09T22:01:26.229Z"
   },
   {
    "duration": 1233,
    "start_time": "2023-03-09T22:02:11.112Z"
   },
   {
    "duration": 1579,
    "start_time": "2023-03-10T20:40:36.925Z"
   },
   {
    "duration": 161,
    "start_time": "2023-03-10T20:40:39.501Z"
   },
   {
    "duration": 46,
    "start_time": "2023-03-10T20:40:42.338Z"
   },
   {
    "duration": 9,
    "start_time": "2023-03-10T20:40:47.284Z"
   },
   {
    "duration": 92,
    "start_time": "2023-03-10T20:40:50.657Z"
   },
   {
    "duration": 77,
    "start_time": "2023-03-10T20:41:46.710Z"
   },
   {
    "duration": 4,
    "start_time": "2023-03-10T20:42:05.002Z"
   },
   {
    "duration": 7,
    "start_time": "2023-03-10T20:42:16.798Z"
   },
   {
    "duration": 13,
    "start_time": "2023-03-10T20:42:26.186Z"
   },
   {
    "duration": 12,
    "start_time": "2023-03-10T20:42:37.654Z"
   },
   {
    "duration": 29,
    "start_time": "2023-03-10T20:44:44.516Z"
   },
   {
    "duration": 3,
    "start_time": "2023-03-10T20:45:20.710Z"
   },
   {
    "duration": 1314,
    "start_time": "2023-03-10T20:45:25.698Z"
   },
   {
    "duration": 41,
    "start_time": "2023-03-10T20:45:27.014Z"
   },
   {
    "duration": 42,
    "start_time": "2023-03-10T20:45:27.056Z"
   },
   {
    "duration": 9,
    "start_time": "2023-03-10T20:45:27.099Z"
   },
   {
    "duration": 11,
    "start_time": "2023-03-10T20:45:27.109Z"
   },
   {
    "duration": 10,
    "start_time": "2023-03-10T20:45:27.122Z"
   },
   {
    "duration": 19,
    "start_time": "2023-03-10T20:45:27.134Z"
   },
   {
    "duration": 20,
    "start_time": "2023-03-10T20:45:27.155Z"
   },
   {
    "duration": 28,
    "start_time": "2023-03-10T20:45:27.177Z"
   },
   {
    "duration": 133,
    "start_time": "2023-03-10T20:45:27.208Z"
   },
   {
    "duration": 330,
    "start_time": "2023-03-10T20:45:27.343Z"
   },
   {
    "duration": 1548,
    "start_time": "2023-03-10T20:45:27.674Z"
   },
   {
    "duration": 12756,
    "start_time": "2023-03-10T20:45:29.223Z"
   },
   {
    "duration": 93,
    "start_time": "2023-03-10T20:45:41.981Z"
   },
   {
    "duration": 13,
    "start_time": "2023-03-10T20:45:42.168Z"
   },
   {
    "duration": 10,
    "start_time": "2023-03-10T20:45:42.183Z"
   },
   {
    "duration": 390,
    "start_time": "2023-03-10T20:45:42.195Z"
   },
   {
    "duration": 2001,
    "start_time": "2023-03-10T20:45:42.586Z"
   },
   {
    "duration": 18109,
    "start_time": "2023-03-10T20:45:44.589Z"
   },
   {
    "duration": 73,
    "start_time": "2023-03-10T20:46:02.700Z"
   },
   {
    "duration": 1473,
    "start_time": "2023-03-10T20:46:02.776Z"
   },
   {
    "duration": 1013,
    "start_time": "2023-03-10T20:46:04.251Z"
   },
   {
    "duration": 1450,
    "start_time": "2023-03-10T20:46:34.068Z"
   },
   {
    "duration": 44,
    "start_time": "2023-03-10T20:46:35.520Z"
   },
   {
    "duration": 45,
    "start_time": "2023-03-10T20:46:35.566Z"
   },
   {
    "duration": 9,
    "start_time": "2023-03-10T20:46:35.613Z"
   },
   {
    "duration": 10,
    "start_time": "2023-03-10T20:46:35.623Z"
   },
   {
    "duration": 29,
    "start_time": "2023-03-10T20:46:35.635Z"
   },
   {
    "duration": 22,
    "start_time": "2023-03-10T20:46:35.665Z"
   },
   {
    "duration": 16,
    "start_time": "2023-03-10T20:46:35.689Z"
   },
   {
    "duration": 33,
    "start_time": "2023-03-10T20:46:35.706Z"
   },
   {
    "duration": 133,
    "start_time": "2023-03-10T20:46:35.742Z"
   },
   {
    "duration": 354,
    "start_time": "2023-03-10T20:46:35.876Z"
   },
   {
    "duration": 1638,
    "start_time": "2023-03-10T20:46:36.231Z"
   },
   {
    "duration": 12432,
    "start_time": "2023-03-10T20:46:37.870Z"
   },
   {
    "duration": 68,
    "start_time": "2023-03-10T20:46:50.303Z"
   },
   {
    "duration": 106,
    "start_time": "2023-03-10T20:46:50.373Z"
   },
   {
    "duration": 11,
    "start_time": "2023-03-10T20:46:50.481Z"
   },
   {
    "duration": 403,
    "start_time": "2023-03-10T20:46:50.494Z"
   },
   {
    "duration": 1972,
    "start_time": "2023-03-10T20:46:50.898Z"
   },
   {
    "duration": 18106,
    "start_time": "2023-03-10T20:46:52.872Z"
   },
   {
    "duration": 26,
    "start_time": "2023-03-10T20:47:10.979Z"
   },
   {
    "duration": 1500,
    "start_time": "2023-03-10T20:47:11.006Z"
   },
   {
    "duration": 982,
    "start_time": "2023-03-10T20:47:12.508Z"
   },
   {
    "duration": 119,
    "start_time": "2023-03-10T20:51:09.050Z"
   },
   {
    "duration": 310,
    "start_time": "2023-03-10T20:55:07.173Z"
   },
   {
    "duration": 379,
    "start_time": "2023-03-10T20:57:40.932Z"
   },
   {
    "duration": 307,
    "start_time": "2023-03-10T20:59:21.175Z"
   },
   {
    "duration": 29,
    "start_time": "2023-03-10T21:01:03.171Z"
   },
   {
    "duration": 132,
    "start_time": "2023-03-10T21:02:22.362Z"
   },
   {
    "duration": 104,
    "start_time": "2023-03-10T21:02:48.767Z"
   },
   {
    "duration": 94,
    "start_time": "2023-03-10T21:03:01.376Z"
   },
   {
    "duration": 11,
    "start_time": "2023-03-10T21:03:25.714Z"
   },
   {
    "duration": 1005,
    "start_time": "2023-03-10T21:19:16.930Z"
   },
   {
    "duration": 1012,
    "start_time": "2023-03-10T21:19:29.456Z"
   },
   {
    "duration": 980,
    "start_time": "2023-03-10T21:21:07.533Z"
   },
   {
    "duration": 1078,
    "start_time": "2023-03-10T21:43:20.169Z"
   },
   {
    "duration": 1319,
    "start_time": "2023-03-10T21:43:34.710Z"
   },
   {
    "duration": 41,
    "start_time": "2023-03-10T21:43:36.031Z"
   },
   {
    "duration": 44,
    "start_time": "2023-03-10T21:43:36.074Z"
   },
   {
    "duration": 10,
    "start_time": "2023-03-10T21:43:36.121Z"
   },
   {
    "duration": 5,
    "start_time": "2023-03-10T21:43:36.132Z"
   },
   {
    "duration": 35,
    "start_time": "2023-03-10T21:43:36.138Z"
   },
   {
    "duration": 15,
    "start_time": "2023-03-10T21:43:36.175Z"
   },
   {
    "duration": 12,
    "start_time": "2023-03-10T21:43:36.192Z"
   },
   {
    "duration": 30,
    "start_time": "2023-03-10T21:43:36.206Z"
   },
   {
    "duration": 143,
    "start_time": "2023-03-10T21:43:36.268Z"
   },
   {
    "duration": 340,
    "start_time": "2023-03-10T21:43:36.413Z"
   },
   {
    "duration": 39,
    "start_time": "2023-03-10T21:43:36.755Z"
   },
   {
    "duration": 1547,
    "start_time": "2023-03-10T21:43:36.796Z"
   },
   {
    "duration": 12503,
    "start_time": "2023-03-10T21:43:38.346Z"
   },
   {
    "duration": 127,
    "start_time": "2023-03-10T21:43:50.850Z"
   },
   {
    "duration": 90,
    "start_time": "2023-03-10T21:43:50.979Z"
   },
   {
    "duration": 106,
    "start_time": "2023-03-10T21:43:51.071Z"
   },
   {
    "duration": 14,
    "start_time": "2023-03-10T21:43:51.179Z"
   },
   {
    "duration": 411,
    "start_time": "2023-03-10T21:43:51.195Z"
   },
   {
    "duration": 1987,
    "start_time": "2023-03-10T21:43:51.608Z"
   },
   {
    "duration": 18084,
    "start_time": "2023-03-10T21:43:53.597Z"
   },
   {
    "duration": 30,
    "start_time": "2023-03-10T21:44:11.683Z"
   },
   {
    "duration": 1481,
    "start_time": "2023-03-10T21:44:11.715Z"
   },
   {
    "duration": 1043,
    "start_time": "2023-03-10T21:44:13.198Z"
   },
   {
    "duration": 1015,
    "start_time": "2023-03-10T21:44:14.243Z"
   },
   {
    "duration": 1035,
    "start_time": "2023-03-10T21:44:15.260Z"
   },
   {
    "duration": 986,
    "start_time": "2023-03-10T21:44:16.297Z"
   },
   {
    "duration": 1089,
    "start_time": "2023-03-10T21:46:54.979Z"
   },
   {
    "duration": 6,
    "start_time": "2023-03-10T21:55:21.633Z"
   },
   {
    "duration": 8,
    "start_time": "2023-03-10T21:56:56.463Z"
   },
   {
    "duration": 1027,
    "start_time": "2023-03-10T21:58:17.190Z"
   },
   {
    "duration": 1059,
    "start_time": "2023-03-10T21:58:39.320Z"
   },
   {
    "duration": 6,
    "start_time": "2023-03-10T21:59:46.884Z"
   },
   {
    "duration": 313,
    "start_time": "2023-03-10T22:23:06.135Z"
   },
   {
    "duration": 23,
    "start_time": "2023-03-10T22:24:44.195Z"
   },
   {
    "duration": 25,
    "start_time": "2023-03-10T22:25:07.565Z"
   },
   {
    "duration": 1439,
    "start_time": "2023-03-10T22:25:55.731Z"
   },
   {
    "duration": 10199,
    "start_time": "2023-03-10T22:26:45.076Z"
   },
   {
    "duration": 10700,
    "start_time": "2023-03-10T22:27:29.596Z"
   },
   {
    "duration": 10168,
    "start_time": "2023-03-10T22:27:53.351Z"
   },
   {
    "duration": 799,
    "start_time": "2023-03-10T22:29:27.823Z"
   },
   {
    "duration": 24,
    "start_time": "2023-03-10T22:32:40.088Z"
   },
   {
    "duration": 1380,
    "start_time": "2023-03-10T22:33:05.169Z"
   },
   {
    "duration": 41,
    "start_time": "2023-03-10T22:33:06.551Z"
   },
   {
    "duration": 41,
    "start_time": "2023-03-10T22:33:06.594Z"
   },
   {
    "duration": 8,
    "start_time": "2023-03-10T22:33:06.638Z"
   },
   {
    "duration": 5,
    "start_time": "2023-03-10T22:33:06.647Z"
   },
   {
    "duration": 16,
    "start_time": "2023-03-10T22:33:06.654Z"
   },
   {
    "duration": 20,
    "start_time": "2023-03-10T22:33:06.672Z"
   },
   {
    "duration": 10,
    "start_time": "2023-03-10T22:33:06.694Z"
   },
   {
    "duration": 32,
    "start_time": "2023-03-10T22:33:06.706Z"
   },
   {
    "duration": 137,
    "start_time": "2023-03-10T22:33:06.741Z"
   },
   {
    "duration": 340,
    "start_time": "2023-03-10T22:33:06.880Z"
   },
   {
    "duration": 29,
    "start_time": "2023-03-10T22:33:07.222Z"
   },
   {
    "duration": 1482,
    "start_time": "2023-03-10T22:33:07.253Z"
   },
   {
    "duration": 11982,
    "start_time": "2023-03-10T22:33:08.736Z"
   },
   {
    "duration": 133,
    "start_time": "2023-03-10T22:33:20.720Z"
   },
   {
    "duration": 27,
    "start_time": "2023-03-10T22:33:20.855Z"
   },
   {
    "duration": 510,
    "start_time": "2023-03-10T22:33:20.884Z"
   },
   {
    "duration": 23,
    "start_time": "2023-03-10T22:33:21.396Z"
   },
   {
    "duration": 1504,
    "start_time": "2023-03-10T22:33:21.421Z"
   },
   {
    "duration": 10594,
    "start_time": "2023-03-10T22:33:22.926Z"
   },
   {
    "duration": 865,
    "start_time": "2023-03-10T22:33:33.522Z"
   },
   {
    "duration": 86,
    "start_time": "2023-03-10T22:33:34.389Z"
   },
   {
    "duration": 103,
    "start_time": "2023-03-10T22:33:34.477Z"
   },
   {
    "duration": 11,
    "start_time": "2023-03-10T22:33:34.582Z"
   },
   {
    "duration": 421,
    "start_time": "2023-03-10T22:33:34.595Z"
   },
   {
    "duration": 2087,
    "start_time": "2023-03-10T22:33:35.018Z"
   },
   {
    "duration": 17873,
    "start_time": "2023-03-10T22:33:37.107Z"
   },
   {
    "duration": 32,
    "start_time": "2023-03-10T22:33:54.982Z"
   },
   {
    "duration": 1432,
    "start_time": "2023-03-10T22:33:55.071Z"
   },
   {
    "duration": 965,
    "start_time": "2023-03-10T22:33:56.505Z"
   },
   {
    "duration": 970,
    "start_time": "2023-03-10T22:33:57.472Z"
   },
   {
    "duration": 985,
    "start_time": "2023-03-10T22:33:58.445Z"
   },
   {
    "duration": 968,
    "start_time": "2023-03-10T22:33:59.432Z"
   },
   {
    "duration": 994,
    "start_time": "2023-03-10T22:34:00.401Z"
   },
   {
    "duration": 6,
    "start_time": "2023-03-10T22:34:01.397Z"
   }
  ],
  "kernelspec": {
   "display_name": "Python 3 (ipykernel)",
   "language": "python",
   "name": "python3"
  },
  "language_info": {
   "codemirror_mode": {
    "name": "ipython",
    "version": 3
   },
   "file_extension": ".py",
   "mimetype": "text/x-python",
   "name": "python",
   "nbconvert_exporter": "python",
   "pygments_lexer": "ipython3",
   "version": "3.13.5"
  },
  "toc": {
   "base_numbering": 1,
   "nav_menu": {},
   "number_sections": true,
   "sideBar": true,
   "skip_h1_title": true,
   "title_cell": "Содержание",
   "title_sidebar": "Contents",
   "toc_cell": true,
   "toc_position": {
    "height": "calc(100% - 180px)",
    "left": "10px",
    "top": "150px",
    "width": "165px"
   },
   "toc_section_display": true,
   "toc_window_display": false
  }
 },
 "nbformat": 4,
 "nbformat_minor": 4
}
